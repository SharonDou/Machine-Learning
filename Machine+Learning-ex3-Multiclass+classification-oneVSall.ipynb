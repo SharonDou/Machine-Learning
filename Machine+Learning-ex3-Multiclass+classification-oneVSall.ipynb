{
 "cells": [
  {
   "cell_type": "markdown",
   "metadata": {},
   "source": [
    "## Multi-class classification / oneVSall classification"
   ]
  },
  {
   "cell_type": "code",
   "execution_count": 1,
   "metadata": {
    "collapsed": true
   },
   "outputs": [],
   "source": [
    "#onevsall多分类器的实现\n",
    "#load the datasets 导入手写字体数据集\n",
    "from sklearn.datasets import load_digits\n",
    "import numpy as np\n",
    "import pandas as pd\n",
    "import matplotlib.pyplot as plt\n",
    "\n",
    "digits = load_digits()\n",
    "data = digits.data\n",
    "target = digits.target"
   ]
  },
  {
   "cell_type": "code",
   "execution_count": 60,
   "metadata": {},
   "outputs": [
    {
     "name": "stdout",
     "output_type": "stream",
     "text": [
      "(1797, 64)\n",
      "dict_keys(['data', 'target', 'target_names', 'images', 'DESCR'])\n",
      "[0 1 2 ..., 8 9 8]\n",
      "[  0.   0.   5.  13.   9.   1.   0.   0.   0.   0.  13.  15.  10.  15.   5.\n",
      "   0.   0.   3.  15.   2.   0.  11.   8.   0.   0.   4.  12.   0.   0.   8.\n",
      "   8.   0.   0.   5.   8.   0.   0.   9.   8.   0.   0.   4.  11.   0.   1.\n",
      "  12.   7.   0.   0.   2.  14.   5.  10.  12.   0.   0.   0.   0.   6.  13.\n",
      "  10.   0.   0.   0.]\n",
      "the 15th image is: 5\n"
     ]
    }
   ],
   "source": [
    "print(data.shape)\n",
    "print(digits.keys())\n",
    "print(digits.target)\n",
    "print(digits.data[0])\n",
    "print('the 15th image is:', target[15])"
   ]
  },
  {
   "cell_type": "code",
   "execution_count": 73,
   "metadata": {},
   "outputs": [
    {
     "data": {
      "text/plain": [
       "<matplotlib.figure.Figure at 0x118878518>"
      ]
     },
     "metadata": {},
     "output_type": "display_data"
    },
    {
     "data": {
      "image/png": "[encoded data removed]",
      "text/plain": [
       "<matplotlib.figure.Figure at 0x1188755c0>"
      ]
     },
     "metadata": {},
     "output_type": "display_data"
    }
   ],
   "source": [
    "import matplotlib.pyplot as plt \n",
    "plt.gray() \n",
    "plt.matshow(digits.images[0]) \n",
    "plt.show()"
   ]
  },
  {
   "cell_type": "code",
   "execution_count": 101,
   "metadata": {},
   "outputs": [
    {
     "data": {
      "image/png": "[encoded data removed]",
      "text/plain": [
       "<matplotlib.figure.Figure at 0x1188619b0>"
      ]
     },
     "metadata": {},
     "output_type": "display_data"
    }
   ],
   "source": [
    "# randomly select 50 data points to display\n",
    "# firstly intro the classes, including 10 digit images\n",
    "classes = [str(i) for i in range(10)]\n",
    "num_classes = len(classes)\n",
    "samples_per_class = 5\n",
    "for pos, cla in enumerate(classes):\n",
    "    idxs = np.flatnonzero(target == pos)  # select all the target positions where value is in the class\n",
    "    idxs = np.random.choice(idxs, samples_per_class, replace = False) # random select 5 points\n",
    "    for k, idx in enumerate(idxs):\n",
    "        plt_idx = k * num_classes + pos + 1\n",
    "        plt.subplot(samples_per_class, num_classes, plt_idx)\n",
    "        plt.imshow(digits.images[idx].astype('uint8'))\n",
    "        plt.axis('off')\n",
    "        if k == 0:\n",
    "            plt.title(cla)\n",
    "plt.show()"
   ]
  },
  {
   "cell_type": "code",
   "execution_count": 126,
   "metadata": {
    "collapsed": true
   },
   "outputs": [],
   "source": [
    "# regularized logistic function, to train the model\n",
    "def H_Func(theta, x):      # theta.shape(1, m), x.shape(m, n_train)\n",
    "    z = np.dot(theta, x)   # z.shape(1, n_train)\n",
    "    h = 1 / (1 + exp(-z))\n",
    "    return h\n",
    "\n",
    "def cost_Func(theta, x, y, reg):   # y.shape(1, n_train)\n",
    "    n_train = x.shape[1]\n",
    "    h = H_Func(theta, x)   # h.shape(1, n_train)\n",
    "    theta_1 = theta.reshape(1,-1)[0,1:]\n",
    "    J = ((-y * np.log(h) - (1-y)*np.log(1-h)).sum())/n_train + reg/(2*n_train)*sum(theta_1 ** 2)\n",
    "    grad = (np.dot((h-y), x.T) / n_train).reshape(1,-1)    # grad.shape(1, m)\n",
    "    grad[0,1:] = grad[0,1:] + reg * theta_1 / n_train\n",
    "    return J, grad"
   ]
  },
  {
   "cell_type": "code",
   "execution_count": 131,
   "metadata": {
    "collapsed": true
   },
   "outputs": [],
   "source": [
    "def grad_descent(theta, x, y, reg = 1, iters = 5000, alpha = 0.1):\n",
    "    J_history = []\n",
    "    for i in range(iters):\n",
    "        n_train = x.shape[1]\n",
    "        J, grad = cost_Func(theta, x, y, reg)\n",
    "        J_history.append(J)\n",
    "        theta = theta - alpha * grad\n",
    "        if not i%200:\n",
    "            print('iter is:',i,'the cost is:',J)\n",
    "    return J_history, theta"
   ]
  },
  {
   "cell_type": "markdown",
   "metadata": {
    "collapsed": true
   },
   "source": [
    "*****"
   ]
  },
  {
   "cell_type": "code",
   "execution_count": 52,
   "metadata": {},
   "outputs": [
    {
     "name": "stdout",
     "output_type": "stream",
     "text": [
      "dict_keys(['data', 'target', 'target_names', 'DESCR', 'feature_names'])\n",
      "(150,)\n",
      "(150, 4)\n"
     ]
    }
   ],
   "source": [
    "from sklearn.datasets import load_iris\n",
    "iris = load_iris()     # iris is a built-in data package in sklearn, used in multiple-variable classification\n",
    "print(iris.keys())\n",
    "print(iris.target.shape)\n",
    "print(iris.data.shape)"
   ]
  },
  {
   "cell_type": "code",
   "execution_count": null,
   "metadata": {
    "collapsed": true
   },
   "outputs": [],
   "source": []
  }
 ],
 "metadata": {
  "kernelspec": {
   "display_name": "Python 3",
   "language": "python",
   "name": "python3"
  },
  "language_info": {
   "codemirror_mode": {
    "name": "ipython",
    "version": 3
   },
   "file_extension": ".py",
   "mimetype": "text/x-python",
   "name": "python",
   "nbconvert_exporter": "python",
   "pygments_lexer": "ipython3",
   "version": "3.6.1"
  }
 },
 "nbformat": 4,
 "nbformat_minor": 2
}
