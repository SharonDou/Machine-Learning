{
 "cells": [
  {
   "cell_type": "markdown",
   "metadata": {},
   "source": [
    "## Logic Regression"
   ]
  },
  {
   "cell_type": "code",
   "execution_count": 288,
   "metadata": {
    "collapsed": true
   },
   "outputs": [],
   "source": [
    "# import data\n",
    "import numpy as np\n",
    "import pandas as pd\n",
    "def upload_data(filename):\n",
    "    file = open(filename)\n",
    "    lineLst = []\n",
    "    for line in file.readlines():\n",
    "        lineMod = line.strip().split(',')\n",
    "        tmp = []\n",
    "        for l in lineMod:\n",
    "            tmp.append(float(l))\n",
    "        lineLst.append(tmp)\n",
    "    data_DF = pd.DataFrame(lineLst, columns = ['X_1','X_2','Y']) #X.shape(100,),Y.shape(100,)\n",
    "    return data_DF"
   ]
  },
  {
   "cell_type": "code",
   "execution_count": 289,
   "metadata": {},
   "outputs": [
    {
     "data": {
      "image/png": "[encoded data removed]",
      "text/plain": [
       "<matplotlib.figure.Figure at 0x119bfa5f8>"
      ]
     },
     "metadata": {},
     "output_type": "display_data"
    }
   ],
   "source": [
    "# visualize the data\n",
    "from matplotlib import pyplot as plt\n",
    "data = upload_data('/Users/mac/Desktop/MLcoursework/ex2-week3-logistic regression/ex2/ex2data1.txt')\n",
    "data.insert(loc = 0, column = 'X_0', value = [1]*data.shape[0])\n",
    "Y_positive = data[data['Y']==1]   # all data whose Y == 1\n",
    "Y_negative = data[data['Y']==0]   # all data whose Y == 0\n",
    "plt.scatter(Y_positive['X_1'], Y_positive['X_2'] ,marker = '+', color = 'black', label  ='Admitted')\n",
    "plt.scatter(Y_negative['X_1'], Y_negative['X_2'] ,marker = 'o', color = 'y', label  ='Not admitted')\n",
    "plt.xlim(30,100)\n",
    "plt.ylim(30,100)\n",
    "plt.xlabel('Exam 1 Score')\n",
    "plt.ylabel('Exam 2 Score')\n",
    "plt.legend(loc = 'upper right')\n",
    "plt.title('Figure1: Scatter plot of training data')\n",
    "plt.show()"
   ]
  },
  {
   "cell_type": "code",
   "execution_count": 290,
   "metadata": {
    "collapsed": true
   },
   "outputs": [],
   "source": [
    "# compute H_Func\n",
    "def H_Func(X, theta):     # in this project, theta.shape(1,3), X.shape(3,n_train)\n",
    "    Z = np.dot(theta, X)  # Z.shape(1,n_train)\n",
    "    sigmoid = 1/(1+np.exp(-Z))\n",
    "    return sigmoid        # H_Func return an array with shape(1,n_train)\n",
    "# compute costFunction and gradient function\n",
    "import math\n",
    "def costFunction(X_train,Y_train,theta):     # X_train.shape(3,n_train),Y_train.shape(1,n_train),theta.shape(1,3)\n",
    "    n_train = X_train.shape[1]               # n_train is the number of training data\n",
    "    total_cost = sum((-Y_train*np.log(H_Func(X_train, theta))-(1-Y_train)*np.log(1-H_Func(X_train, theta)))[0])\n",
    "    J = total_cost / n_train\n",
    "    gradient = (np.dot((H_Func(X_train, theta)-Y_train), X_train.T) / n_train)[0] #gradient.shape(1,3)\n",
    "    return J, gradient"
   ]
  },
  {
   "cell_type": "code",
   "execution_count": 291,
   "metadata": {},
   "outputs": [
    {
     "name": "stdout",
     "output_type": "stream",
     "text": [
      "when theta is [0,0,0], the expected cost is: 0.69314718056\n",
      "when theta is [0,0,0], the expected gradients is: [ -0.1        -12.00921659 -11.26284221]\n",
      "when theta is [0,0,0], the expected cost is: 0.218330193827\n",
      "when theta is [0,0,0], the expected gradients is: [ 0.04290299  2.56623412  2.64679737]\n"
     ]
    }
   ],
   "source": [
    "# check the cost of the training data with initial theta\n",
    "X_train = np.array(data.iloc[:,:3]).T      # X_train.shape(3,100)\n",
    "Y_train = np.array(data.iloc[:,3]).reshape(1,-1)     # Y_train.shape(1,100)\n",
    "\n",
    "theta1 = np.zeros((1,3))                     # theta.shape(1,3)\n",
    "J, grad = costFunction(X_train,Y_train,theta1)\n",
    "print(\"when theta is [0,0,0], the expected cost is:\", J)\n",
    "print(\"when theta is [0,0,0], the expected gradients is:\", grad)\n",
    "\n",
    "theta2 = np.array([-24,0.2,0.2]).reshape(1,-1)\n",
    "J, grad = costFunction(X_train,Y_train,theta2)\n",
    "print(\"when theta is [0,0,0], the expected cost is:\", J)\n",
    "print(\"when theta is [0,0,0], the expected gradients is:\", grad)"
   ]
  },
  {
   "cell_type": "code",
   "execution_count": 292,
   "metadata": {
    "collapsed": true
   },
   "outputs": [],
   "source": [
    "# optimize the parameter theta\n",
    "# using the gradient descent algorithm\n",
    "def gradient_descent(X_train, Y_train, theta, alpha = 0.001, iters = 8000000):\n",
    "    n_train = X_train.shape[1]\n",
    "    for i in range(iters):\n",
    "        grad = np.dot((H_Func(X_train, theta) - Y_train), X_train.T) / n_train   # grad.shape(1,3)\n",
    "        theta = theta - alpha * grad     # theta.shape(1,3)\n",
    "    total_cost = sum((-Y_train*np.log(H_Func(X_train, theta))-(1-Y_train)*np.log(1-H_Func(X_train, theta)))[0])\n",
    "    J = total_cost / n_train\n",
    "    return J, theta"
   ]
  },
  {
   "cell_type": "code",
   "execution_count": 146,
   "metadata": {},
   "outputs": [
    {
     "name": "stdout",
     "output_type": "stream",
     "text": [
      "start time is: 1536697877.659924\n",
      "0.203591527064 [[-24.37770318   0.19996434   0.19513033]]\n",
      "stop time is: 1536697994.108735\n",
      "time cost is: 116.44881105422974\n"
     ]
    }
   ],
   "source": [
    "import time\n",
    "t1 = time.time()\n",
    "print(\"start time is:\", t1)\n",
    "J_opt,theta_opt = gradient_descent(X_train, Y_train, np.array([0,0,0]).reshape(1,-1))\n",
    "print(J_opt, theta_opt)\n",
    "t2 = time.time()\n",
    "print(\"stop time is:\",t2)\n",
    "delta_t = t2 - t1\n",
    "print(\"time cost is:\", t2 - t1)"
   ]
  },
  {
   "cell_type": "code",
   "execution_count": 164,
   "metadata": {},
   "outputs": [
    {
     "name": "stdout",
     "output_type": "stream",
     "text": [
      "-24.0 0.2 0.2\n"
     ]
    }
   ],
   "source": [
    "print(theta[0][0], theta[0][1], theta[0][2])"
   ]
  },
  {
   "cell_type": "code",
   "execution_count": 293,
   "metadata": {},
   "outputs": [
    {
     "data": {
      "image/png": "[encoded data removed]",
      "text/plain": [
       "<matplotlib.figure.Figure at 0x119c7d550>"
      ]
     },
     "metadata": {},
     "output_type": "display_data"
    }
   ],
   "source": [
    "# visualize the decision boundary\n",
    "# visualize the data\n",
    "from matplotlib import pyplot as plt\n",
    "data = upload_data('/Users/mac/Desktop/MLcoursework/ex2-week3-logistic regression/ex2/ex2data1.txt')\n",
    "data.insert(loc = 0, column = 'X_0', value = [1]*data.shape[0])\n",
    "Y_positive = data[data['Y']==1]   # all data whose Y == 1\n",
    "Y_negative = data[data['Y']==0]   # all data whose Y == 0\n",
    "plt.scatter(Y_positive['X_1'], Y_positive['X_2'] ,marker = '+', color = 'black', label  ='Admitted')\n",
    "plt.scatter(Y_negative['X_1'], Y_negative['X_2'] ,marker = 'o', color = 'y', label  ='Not admitted')\n",
    "plt.plot(data.loc[:,'X_1'], (theta_opt[0][0]+theta_opt[0][1]*data.loc[:,'X_1'])/(-theta_opt[0][2]), color = \"blue\", label = \"decision boundary\")\n",
    "plt.xlim(30,100)\n",
    "plt.ylim(30,100)\n",
    "plt.xlabel('Exam 1 Score')\n",
    "plt.ylabel('Exam 2 Score')\n",
    "plt.legend(loc = 'upper right')\n",
    "plt.title('Figure1: Scatter plot of training data')\n",
    "plt.show()"
   ]
  },
  {
   "cell_type": "code",
   "execution_count": 294,
   "metadata": {
    "collapsed": true
   },
   "outputs": [],
   "source": [
    "# predict the Y using the optimal theta\n",
    "def predict(X_train, theta): # X_train.shape(3, n_train), theta.shape(1,3)\n",
    "    p = H_Func(X_train, theta)\n",
    "    n_train = X_train.shape[1]\n",
    "    Y_predict = np.where(p>=0.5, 1, 0)\n",
    "    return Y_predict"
   ]
  },
  {
   "cell_type": "code",
   "execution_count": 295,
   "metadata": {},
   "outputs": [
    {
     "name": "stdout",
     "output_type": "stream",
     "text": [
      "under the optimal theta, the prediciton accuracy is: 0.89\n"
     ]
    }
   ],
   "source": [
    "Y_predict = predict(X_train, theta_opt)\n",
    "\n",
    "data.insert(loc = 4, column = 'Y_predict', value = Y_predict.tolist()[0])\n",
    "\n",
    "accuracy = np.mean(data['Y']==data['Y_predict'])   # np.meam()the parameter is an array, and False equals to 0\n",
    "print('under the optimal theta, the prediciton accuracy is:', accuracy)"
   ]
  },
  {
   "cell_type": "markdown",
   "metadata": {},
   "source": [
    "# create a  class to include the whole logistic regression process"
   ]
  },
  {
   "cell_type": "code",
   "execution_count": null,
   "metadata": {
    "collapsed": true
   },
   "outputs": [],
   "source": [
    "class logistic_regre(object):\n",
    "    "
   ]
  },
  {
   "cell_type": "markdown",
   "metadata": {},
   "source": [
    "# test with iris data"
   ]
  },
  {
   "cell_type": "code",
   "execution_count": 188,
   "metadata": {
    "collapsed": true
   },
   "outputs": [],
   "source": [
    "data3 = iris.data[:,:2]\n",
    "target = iris.target.reshape(-1,1)"
   ]
  },
  {
   "cell_type": "code",
   "execution_count": 228,
   "metadata": {
    "collapsed": true
   },
   "outputs": [],
   "source": [
    "DF = pd.DataFrame({'X_1':data3[:100,0].tolist(), 'X_2':data3[:100,1].tolist(), \"Y\": target.reshape(1,-1)[0].tolist()[:100]})"
   ]
  },
  {
   "cell_type": "code",
   "execution_count": 234,
   "metadata": {},
   "outputs": [
    {
     "data": {
      "image/png": "[encoded data removed]",
      "text/plain": [
       "<matplotlib.figure.Figure at 0x1197e35c0>"
      ]
     },
     "metadata": {},
     "output_type": "display_data"
    }
   ],
   "source": [
    "Y_positive = DF[DF['Y'] == 1]\n",
    "Y_negative = DF[DF['Y'] == 0]\n",
    "plt.scatter(Y_positive['X_1'], Y_positive['X_2'], color = 'red', marker = 'x')\n",
    "plt.scatter(Y_negative['X_1'], Y_negative['X_2'], color = 'blue', marker = 'o')\n",
    "plt.show()"
   ]
  }
 ],
 "metadata": {
  "kernelspec": {
   "display_name": "Python 3",
   "language": "python",
   "name": "python3"
  },
  "language_info": {
   "codemirror_mode": {
    "name": "ipython",
    "version": 3
   },
   "file_extension": ".py",
   "mimetype": "text/x-python",
   "name": "python",
   "nbconvert_exporter": "python",
   "pygments_lexer": "ipython3",
   "version": "3.6.1"
  }
 },
 "nbformat": 4,
 "nbformat_minor": 2
}
