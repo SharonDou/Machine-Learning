{
 "cells": [
  {
   "cell_type": "markdown",
   "metadata": {},
   "source": [
    "## regularization"
   ]
  },
  {
   "cell_type": "code",
   "execution_count": 1,
   "metadata": {
    "collapsed": true
   },
   "outputs": [],
   "source": [
    "# import data\n",
    "import pandas as pd\n",
    "import numpy as np\n",
    "def upload_data(filename):\n",
    "    data = open(filename)\n",
    "    lst = []\n",
    "    for line in data.readlines():\n",
    "        lineMod = line.strip().split(\",\")\n",
    "        tmp = []\n",
    "        for l in lineMod:\n",
    "            tmp.append(float(l))\n",
    "        lst.append(tmp)\n",
    "    data = pd.DataFrame(np.array(lst), columns = [\"X_1\", 'X_2', 'Y'])\n",
    "    data.insert(loc = 0, value = np.array([1]*len(lst)), column = 'X_0')\n",
    "    return data\n",
    "\n",
    "data = upload_data(\"/Users/mac/Desktop/MLcoursework/ex2-week3-logistic regression/ex2/ex2data2.txt\")"
   ]
  },
  {
   "cell_type": "code",
   "execution_count": 2,
   "metadata": {},
   "outputs": [
    {
     "data": {
      "image/png": "[encoded data removed]",
      "text/plain": [
       "<matplotlib.figure.Figure at 0x1171745c0>"
      ]
     },
     "metadata": {},
     "output_type": "display_data"
    }
   ],
   "source": [
    "# visualize the initial data\n",
    "from matplotlib import pyplot as plt\n",
    "Y_positive = data[data['Y']==1]\n",
    "Y_negative = data[data['Y']==0]\n",
    "plt.scatter(Y_positive['X_1'], Y_positive['X_2'], marker = 'o', color = \"green\", label = '1')\n",
    "plt.scatter(Y_negative['X_1'], Y_negative['X_2'], marker = 'x', color = \"red\", label = '0')\n",
    "plt.legend(loc = 'upper left')\n",
    "plt.xlabel('Exam 1 Score')\n",
    "plt.ylabel('Exam 2 Score')\n",
    "plt.title('Figure: visualization of the initial data')\n",
    "plt.show()"
   ]
  },
  {
   "cell_type": "code",
   "execution_count": 3,
   "metadata": {
    "collapsed": true
   },
   "outputs": [],
   "source": [
    "# add more features\n",
    "def mapFeature(data, degree):\n",
    "    for xd in range(degree+1):\n",
    "        newf = ((data['X_1'] ** xd) * (data['X_2'] ** (degree - xd))).tolist()\n",
    "        data.insert(loc = data.shape[1]-1, column = 'X_1'+str(xd)+'X_2'+str(degree-xd), value = newf)\n",
    "    return data\n",
    "data = mapFeature(data, degree=2)"
   ]
  },
  {
   "cell_type": "code",
   "execution_count": 45,
   "metadata": {
    "collapsed": true
   },
   "outputs": [],
   "source": [
    "# compute cost function with regularization\n",
    "# define H Function, sigmoid function\n",
    "def HFunc(X, theta):    # X.shape(3, n_train), theta.shape(1,3)\n",
    "    z = np.dot(theta, X)\n",
    "    h = 1 / (1 + np.exp(-z))   # h.shape(1, n_train)\n",
    "    return h\n",
    "\n",
    "# define cost function and gradient with regularizaiton\n",
    "def costFun(X, Y, theta, reg):   # X.shape(3, n_train), Y.shape(1, n_train), theta.shape(1, 3)\n",
    "    n_train = X.shape[1]\n",
    "    h = HFunc(X, theta)\n",
    "    theta1_ = theta.reshape(1,-1)[0,1:]\n",
    "    #cost1 = sum((-Y * np.log(h) - (1-Y) * np.log(1-h))[0]) / n_train  # total cost of given theta\n",
    "    cost1 = (-1*np.dot(Y, (np.log(h)).T)-np.dot((1-Y), (np.log(1-h)).T))/n_train\n",
    "    cost2 = reg * sum(theta1_**2) / (2*n_train)   # regularizaiton cost of given theta\n",
    "    grad = np.dot((h - Y), X.T) / n_train   #grad.shape(1, X.shape[0])\n",
    "    grad[0][1:] += reg*theta[0][1:] / n_train\n",
    "    J = cost1 + cost2\n",
    "    return J, grad"
   ]
  },
  {
   "cell_type": "code",
   "execution_count": 46,
   "metadata": {},
   "outputs": [
    {
     "name": "stdout",
     "output_type": "stream",
     "text": [
      "the cost under theta zeros is: [[ 0.69314718]] [[  8.47457627e-03   1.87880932e-02   7.77711864e-05   3.76648474e-02\n",
      "    1.15013308e-02   5.03446395e-02]]\n",
      "the cost under theta ones is: [[ 1.42933848]] [[ 0.3263074   0.15284248  0.18114512  0.23401391  0.09465458  0.22082718]]\n"
     ]
    }
   ],
   "source": [
    "# test the function without new features\n",
    "# let reg be 1, initialize the theta with zeros\n",
    "X_train = data.iloc[:,:-1].T.values\n",
    "Y_train = data.iloc[:,-1].values.reshape(1,-1)\n",
    "theta0 = np.array([0] * len(X_train)).reshape(1,-1)\n",
    "test0, grad0 = costFun(X_train, Y_train, theta0, 1)\n",
    "print(\"the cost under theta zeros is:\", test0, grad0)\n",
    "\n",
    "# let reg be 1, initialize the theta with ones\n",
    "X_train  = data.iloc[:,:-1].T.values\n",
    "Y_train  = data.iloc[:,-1].values.reshape(1,-1)\n",
    "theta1 = np.array([1] * len(X_train)).reshape(1,-1)\n",
    "test1, grad1 = costFun(X_train, Y_train, theta1, 10)\n",
    "print(\"the cost under theta ones is:\", test1, grad1)"
   ]
  },
  {
   "cell_type": "code",
   "execution_count": 122,
   "metadata": {
    "collapsed": true
   },
   "outputs": [],
   "source": [
    "# optimize the parameter using gradient descent\n",
    "def gradient_descent(X, Y, theta, alpha = 0.1, iters = 5000, reg = 1):\n",
    "    J_history = []\n",
    "    for i in range(iters):\n",
    "        J, grad = costFun(X, Y, theta, reg)\n",
    "        J_history.append(J[0,0])\n",
    "        theta = theta - alpha * grad\n",
    "        if not i % 200:\n",
    "            print('iter is:', i, 'the cost is:',J)\n",
    "    return J_history, theta"
   ]
  },
  {
   "cell_type": "code",
   "execution_count": 123,
   "metadata": {},
   "outputs": [
    {
     "name": "stdout",
     "output_type": "stream",
     "text": [
      "iter is: 0 the cost is: [[ 0.69314718]]\n",
      "iter is: 200 the cost is: [[ 0.6407944]]\n",
      "iter is: 400 the cost is: [[ 0.60952078]]\n",
      "iter is: 600 the cost is: [[ 0.58819796]]\n",
      "iter is: 800 the cost is: [[ 0.57335037]]\n",
      "iter is: 1000 the cost is: [[ 0.56289752]]\n",
      "iter is: 1200 the cost is: [[ 0.55547527]]\n",
      "iter is: 1400 the cost is: [[ 0.55016703]]\n",
      "iter is: 1600 the cost is: [[ 0.54634767]]\n",
      "iter is: 1800 the cost is: [[ 0.54358556]]\n",
      "iter is: 2000 the cost is: [[ 0.54157944]]\n",
      "iter is: 2200 the cost is: [[ 0.54011712]]\n",
      "iter is: 2400 the cost is: [[ 0.53904792]]\n",
      "iter is: 2600 the cost is: [[ 0.53826414]]\n",
      "iter is: 2800 the cost is: [[ 0.53768833]]\n",
      "iter is: 3000 the cost is: [[ 0.53726451]]\n",
      "iter is: 3200 the cost is: [[ 0.53695207]]\n",
      "iter is: 3400 the cost is: [[ 0.53672144]]\n",
      "iter is: 3600 the cost is: [[ 0.53655099]]\n",
      "iter is: 3800 the cost is: [[ 0.5364249]]\n",
      "iter is: 4000 the cost is: [[ 0.53633155]]\n",
      "iter is: 4200 the cost is: [[ 0.53626238]]\n",
      "iter is: 4400 the cost is: [[ 0.53621111]]\n",
      "iter is: 4600 the cost is: [[ 0.53617307]]\n",
      "iter is: 4800 the cost is: [[ 0.53614485]]\n"
     ]
    }
   ],
   "source": [
    "X_train = data.iloc[:,:-1].T.values\n",
    "Y_train = data.iloc[:,-1].values.reshape(1,-1)\n",
    "theta0 = np.array([0] * len(X_train)).reshape(1,-1)\n",
    "J_history, theta_opt = gradient_descent(X_train, Y_train, theta0, alpha = 0.1, iters = 5000, reg = 0.5)"
   ]
  },
  {
   "cell_type": "code",
   "execution_count": 124,
   "metadata": {},
   "outputs": [
    {
     "data": {
      "text/plain": [
       "array([[ 1.70383573,  0.667018  ,  1.06295808, -3.50072171, -1.55760897,\n",
       "        -3.93308021]])"
      ]
     },
     "execution_count": 124,
     "metadata": {},
     "output_type": "execute_result"
    }
   ],
   "source": [
    "theta_opt"
   ]
  },
  {
   "cell_type": "code",
   "execution_count": 125,
   "metadata": {},
   "outputs": [
    {
     "data": {
      "image/png": "[encoded data removed]",
      "text/plain": [
       "<matplotlib.figure.Figure at 0x11e8165f8>"
      ]
     },
     "metadata": {},
     "output_type": "display_data"
    }
   ],
   "source": [
    "# visualize the cost under each iters\n",
    "from matplotlib import pyplot as plt\n",
    "plt.plot(J_history)\n",
    "plt.xlabel('iters')\n",
    "plt.ylabel('cost')\n",
    "plt.show()"
   ]
  },
  {
   "cell_type": "code",
   "execution_count": 126,
   "metadata": {},
   "outputs": [
    {
     "data": {
      "text/html": [
       "<div>\n",
       "<style>\n",
       "    .dataframe thead tr:only-child th {\n",
       "        text-align: right;\n",
       "    }\n",
       "\n",
       "    .dataframe thead th {\n",
       "        text-align: left;\n",
       "    }\n",
       "\n",
       "    .dataframe tbody tr th {\n",
       "        vertical-align: top;\n",
       "    }\n",
       "</style>\n",
       "<table border=\"1\" class=\"dataframe\">\n",
       "  <thead>\n",
       "    <tr style=\"text-align: right;\">\n",
       "      <th></th>\n",
       "      <th>0</th>\n",
       "      <th>1</th>\n",
       "      <th>2</th>\n",
       "      <th>3</th>\n",
       "      <th>4</th>\n",
       "      <th>5</th>\n",
       "      <th>6</th>\n",
       "      <th>7</th>\n",
       "      <th>8</th>\n",
       "      <th>9</th>\n",
       "      <th>...</th>\n",
       "      <th>108</th>\n",
       "      <th>109</th>\n",
       "      <th>110</th>\n",
       "      <th>111</th>\n",
       "      <th>112</th>\n",
       "      <th>113</th>\n",
       "      <th>114</th>\n",
       "      <th>115</th>\n",
       "      <th>116</th>\n",
       "      <th>117</th>\n",
       "    </tr>\n",
       "  </thead>\n",
       "  <tbody>\n",
       "    <tr>\n",
       "      <th>X_0</th>\n",
       "      <td>1.000000</td>\n",
       "      <td>1.000000</td>\n",
       "      <td>1.000000</td>\n",
       "      <td>1.000000</td>\n",
       "      <td>1.000000</td>\n",
       "      <td>1.000000</td>\n",
       "      <td>1.000000</td>\n",
       "      <td>1.000000</td>\n",
       "      <td>1.000000</td>\n",
       "      <td>1.000000</td>\n",
       "      <td>...</td>\n",
       "      <td>1.000000</td>\n",
       "      <td>1.000000</td>\n",
       "      <td>1.000000</td>\n",
       "      <td>1.000000</td>\n",
       "      <td>1.000000</td>\n",
       "      <td>1.000000</td>\n",
       "      <td>1.000000</td>\n",
       "      <td>1.000000</td>\n",
       "      <td>1.000000</td>\n",
       "      <td>1.000000</td>\n",
       "    </tr>\n",
       "    <tr>\n",
       "      <th>X_1</th>\n",
       "      <td>0.051267</td>\n",
       "      <td>-0.092742</td>\n",
       "      <td>-0.213710</td>\n",
       "      <td>-0.375000</td>\n",
       "      <td>-0.513250</td>\n",
       "      <td>-0.524770</td>\n",
       "      <td>-0.398040</td>\n",
       "      <td>-0.305880</td>\n",
       "      <td>0.016705</td>\n",
       "      <td>0.131910</td>\n",
       "      <td>...</td>\n",
       "      <td>-0.611180</td>\n",
       "      <td>-0.663020</td>\n",
       "      <td>-0.599650</td>\n",
       "      <td>-0.726380</td>\n",
       "      <td>-0.830070</td>\n",
       "      <td>-0.720620</td>\n",
       "      <td>-0.593890</td>\n",
       "      <td>-0.484450</td>\n",
       "      <td>-0.006336</td>\n",
       "      <td>0.632650</td>\n",
       "    </tr>\n",
       "    <tr>\n",
       "      <th>X_2</th>\n",
       "      <td>0.699560</td>\n",
       "      <td>0.684940</td>\n",
       "      <td>0.692250</td>\n",
       "      <td>0.502190</td>\n",
       "      <td>0.465640</td>\n",
       "      <td>0.209800</td>\n",
       "      <td>0.034357</td>\n",
       "      <td>-0.192250</td>\n",
       "      <td>-0.404240</td>\n",
       "      <td>-0.513890</td>\n",
       "      <td>...</td>\n",
       "      <td>-0.067982</td>\n",
       "      <td>-0.214180</td>\n",
       "      <td>-0.418860</td>\n",
       "      <td>-0.082602</td>\n",
       "      <td>0.312130</td>\n",
       "      <td>0.538740</td>\n",
       "      <td>0.494880</td>\n",
       "      <td>0.999270</td>\n",
       "      <td>0.999270</td>\n",
       "      <td>-0.030612</td>\n",
       "    </tr>\n",
       "    <tr>\n",
       "      <th>X_10X_22</th>\n",
       "      <td>0.489384</td>\n",
       "      <td>0.469143</td>\n",
       "      <td>0.479210</td>\n",
       "      <td>0.252195</td>\n",
       "      <td>0.216821</td>\n",
       "      <td>0.044016</td>\n",
       "      <td>0.001180</td>\n",
       "      <td>0.036960</td>\n",
       "      <td>0.163410</td>\n",
       "      <td>0.264083</td>\n",
       "      <td>...</td>\n",
       "      <td>0.004622</td>\n",
       "      <td>0.045873</td>\n",
       "      <td>0.175444</td>\n",
       "      <td>0.006823</td>\n",
       "      <td>0.097425</td>\n",
       "      <td>0.290241</td>\n",
       "      <td>0.244906</td>\n",
       "      <td>0.998541</td>\n",
       "      <td>0.998541</td>\n",
       "      <td>0.000937</td>\n",
       "    </tr>\n",
       "    <tr>\n",
       "      <th>X_11X_21</th>\n",
       "      <td>0.035864</td>\n",
       "      <td>-0.063523</td>\n",
       "      <td>-0.147941</td>\n",
       "      <td>-0.188321</td>\n",
       "      <td>-0.238990</td>\n",
       "      <td>-0.110097</td>\n",
       "      <td>-0.013675</td>\n",
       "      <td>0.058805</td>\n",
       "      <td>-0.006753</td>\n",
       "      <td>-0.067787</td>\n",
       "      <td>...</td>\n",
       "      <td>0.041549</td>\n",
       "      <td>0.142006</td>\n",
       "      <td>0.251169</td>\n",
       "      <td>0.060000</td>\n",
       "      <td>-0.259090</td>\n",
       "      <td>-0.388227</td>\n",
       "      <td>-0.293904</td>\n",
       "      <td>-0.484096</td>\n",
       "      <td>-0.006332</td>\n",
       "      <td>-0.019367</td>\n",
       "    </tr>\n",
       "    <tr>\n",
       "      <th>X_12X_20</th>\n",
       "      <td>0.002628</td>\n",
       "      <td>0.008601</td>\n",
       "      <td>0.045672</td>\n",
       "      <td>0.140625</td>\n",
       "      <td>0.263426</td>\n",
       "      <td>0.275384</td>\n",
       "      <td>0.158436</td>\n",
       "      <td>0.093563</td>\n",
       "      <td>0.000279</td>\n",
       "      <td>0.017400</td>\n",
       "      <td>...</td>\n",
       "      <td>0.373541</td>\n",
       "      <td>0.439596</td>\n",
       "      <td>0.359580</td>\n",
       "      <td>0.527628</td>\n",
       "      <td>0.689016</td>\n",
       "      <td>0.519293</td>\n",
       "      <td>0.352705</td>\n",
       "      <td>0.234692</td>\n",
       "      <td>0.000040</td>\n",
       "      <td>0.400246</td>\n",
       "    </tr>\n",
       "  </tbody>\n",
       "</table>\n",
       "<p>6 rows × 118 columns</p>\n",
       "</div>"
      ],
      "text/plain": [
       "               0         1         2         3         4         5    \\\n",
       "X_0       1.000000  1.000000  1.000000  1.000000  1.000000  1.000000   \n",
       "X_1       0.051267 -0.092742 -0.213710 -0.375000 -0.513250 -0.524770   \n",
       "X_2       0.699560  0.684940  0.692250  0.502190  0.465640  0.209800   \n",
       "X_10X_22  0.489384  0.469143  0.479210  0.252195  0.216821  0.044016   \n",
       "X_11X_21  0.035864 -0.063523 -0.147941 -0.188321 -0.238990 -0.110097   \n",
       "X_12X_20  0.002628  0.008601  0.045672  0.140625  0.263426  0.275384   \n",
       "\n",
       "               6         7         8         9      ...          108  \\\n",
       "X_0       1.000000  1.000000  1.000000  1.000000    ...     1.000000   \n",
       "X_1      -0.398040 -0.305880  0.016705  0.131910    ...    -0.611180   \n",
       "X_2       0.034357 -0.192250 -0.404240 -0.513890    ...    -0.067982   \n",
       "X_10X_22  0.001180  0.036960  0.163410  0.264083    ...     0.004622   \n",
       "X_11X_21 -0.013675  0.058805 -0.006753 -0.067787    ...     0.041549   \n",
       "X_12X_20  0.158436  0.093563  0.000279  0.017400    ...     0.373541   \n",
       "\n",
       "               109       110       111       112       113       114  \\\n",
       "X_0       1.000000  1.000000  1.000000  1.000000  1.000000  1.000000   \n",
       "X_1      -0.663020 -0.599650 -0.726380 -0.830070 -0.720620 -0.593890   \n",
       "X_2      -0.214180 -0.418860 -0.082602  0.312130  0.538740  0.494880   \n",
       "X_10X_22  0.045873  0.175444  0.006823  0.097425  0.290241  0.244906   \n",
       "X_11X_21  0.142006  0.251169  0.060000 -0.259090 -0.388227 -0.293904   \n",
       "X_12X_20  0.439596  0.359580  0.527628  0.689016  0.519293  0.352705   \n",
       "\n",
       "               115       116       117  \n",
       "X_0       1.000000  1.000000  1.000000  \n",
       "X_1      -0.484450 -0.006336  0.632650  \n",
       "X_2       0.999270  0.999270 -0.030612  \n",
       "X_10X_22  0.998541  0.998541  0.000937  \n",
       "X_11X_21 -0.484096 -0.006332 -0.019367  \n",
       "X_12X_20  0.234692  0.000040  0.400246  \n",
       "\n",
       "[6 rows x 118 columns]"
      ]
     },
     "execution_count": 126,
     "metadata": {},
     "output_type": "execute_result"
    }
   ],
   "source": [
    "data.iloc[:,:-1].T"
   ]
  },
  {
   "cell_type": "code",
   "execution_count": 127,
   "metadata": {},
   "outputs": [
    {
     "data": {
      "text/plain": [
       "array([[ 1.70383573,  0.667018  ,  1.06295808, -3.50072171, -1.55760897,\n",
       "        -3.93308021]])"
      ]
     },
     "execution_count": 127,
     "metadata": {},
     "output_type": "execute_result"
    }
   ],
   "source": [
    "theta_opt"
   ]
  },
  {
   "cell_type": "code",
   "execution_count": 128,
   "metadata": {},
   "outputs": [
    {
     "name": "stdout",
     "output_type": "stream",
     "text": [
      "[{x1: -0.198013883118849*x2 - 3.36345964206078e-9*sqrt(-7.521190201407e+16*x2**2 + 2.09212730201821e+16*x2 + 3.89288619647709e+16) + 0.0847958806311758}, {x1: -0.198013883118849*x2 + 3.36345964206078e-9*sqrt(-7.521190201407e+16*x2**2 + 2.09212730201821e+16*x2 + 3.89288619647709e+16) + 0.0847958806311758}]\n"
     ]
    }
   ],
   "source": [
    "from sympy import *\n",
    "x1=Symbol('x1')\n",
    "x2=Symbol('x2')\n",
    "print (solve([1.70383573+0.667018*x1+1.06295808*x2-3.50072171*(x2**2)-1.55760897*x1*x2-3.93308021*(x1**2)],[x1,x2]))"
   ]
  },
  {
   "cell_type": "code",
   "execution_count": 161,
   "metadata": {},
   "outputs": [
    {
     "data": {
      "image/png": "[encoded data removed]",
      "text/plain": [
       "<matplotlib.figure.Figure at 0x11e661588>"
      ]
     },
     "metadata": {},
     "output_type": "display_data"
    }
   ],
   "source": [
    "# visualize the decision boundary, using the optimal theta\n",
    "# plot the initial data\n",
    "Y_positive = data[data['Y'] == 1]\n",
    "Y_negative = data[data['Y'] == 0]\n",
    "plt.scatter(Y_positive['X_1'], Y_positive['X_2'], marker = 'o', color = 'green', label = '1')\n",
    "plt.scatter(Y_negative['X_1'], Y_negative['X_2'], marker = 'x', color = 'red', label = '0')\n",
    "plt.xlabel('Exam 1 Score')\n",
    "plt.ylabel('Exam 2 Score')\n",
    "plt.legend(loc = 'upper right')\n",
    "plt.title('Figure plotting')\n",
    "\n",
    "# very stupid method to plot the decision boundary :(\n",
    "x2 = np.linspace(-0.5935, 0.87182,100).tolist()\n",
    "x1 = [float(-0.198013883118849*x2_- 3.36345964206078e-9*sqrt(-7.521190201407e+16*x2_**2 + 2.09212730201821e+16*x2_ + 3.89288619647709e+16) + 0.0847958806311758) for x2_ in x2]\n",
    "x11 = [float(-0.198013883118849*x2_+ 3.36345964206078e-9*sqrt(-7.521190201407e+16*x2_**2 + 2.09212730201821e+16*x2_ + 3.89288619647709e+16) + 0.0847958806311758) for x2_ in x2]\n",
    "plt.plot(x1, x2, color = 'black')\n",
    "plt.plot(x11, x2,  color = 'black')\n",
    "\n",
    "plt.show()"
   ]
  },
  {
   "cell_type": "code",
   "execution_count": 175,
   "metadata": {},
   "outputs": [
    {
     "name": "stdout",
     "output_type": "stream",
     "text": [
      "The accuracy of the logic regression model is: 0.78813559322\n"
     ]
    }
   ],
   "source": [
    "# predicted function\n",
    "def predict_Func(X, theta):\n",
    "    probability = HFunc(X, theta)\n",
    "    Y_predict = np.where(probability>=0.5,1,0)\n",
    "    return Y_predict\n",
    "\n",
    "# use the training data and the optimal theta to predict the Y\n",
    "Y_predict = predict_Func(X_train, theta_opt)\n",
    "\n",
    "accuracy_ = np.mean(Y_predict == Y_train)\n",
    "print('The accuracy of the logic regression model is:' ,accuracy_)"
   ]
  },
  {
   "cell_type": "code",
   "execution_count": null,
   "metadata": {
    "collapsed": true
   },
   "outputs": [],
   "source": []
  }
 ],
 "metadata": {
  "kernelspec": {
   "display_name": "Python 3",
   "language": "python",
   "name": "python3"
  },
  "language_info": {
   "codemirror_mode": {
    "name": "ipython",
    "version": 3
   },
   "file_extension": ".py",
   "mimetype": "text/x-python",
   "name": "python",
   "nbconvert_exporter": "python",
   "pygments_lexer": "ipython3",
   "version": "3.6.1"
  }
 },
 "nbformat": 4,
 "nbformat_minor": 2
}
