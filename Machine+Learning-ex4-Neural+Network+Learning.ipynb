{
 "cells": [
  {
   "cell_type": "markdown",
   "metadata": {},
   "source": [
    "## Neural Network"
   ]
  },
  {
   "cell_type": "code",
   "execution_count": 1,
   "metadata": {
    "collapsed": true
   },
   "outputs": [],
   "source": [
    "# import datasets from sklearn\n",
    "from sklearn.datasets import load_digits\n",
    "import numpy as np\n",
    "import pandas as pd\n",
    "from matplotlib import pyplot as plt"
   ]
  },
  {
   "cell_type": "markdown",
   "metadata": {},
   "source": [
    "- <font color = blue>pyplot.gray(): set the mapcolor to gray\n",
    "- pyplot.matshow(): input the M*N matrix, and return an image"
   ]
  },
  {
   "cell_type": "code",
   "execution_count": 89,
   "metadata": {},
   "outputs": [
    {
     "name": "stdout",
     "output_type": "stream",
     "text": [
      "dict_keys(['data', 'target', 'target_names', 'images', 'DESCR'])\n",
      "1797\n",
      "1797\n",
      "1797\n",
      "[ 0.  0. 12. 10.  0.  0.  0.  0.  0.  0. 14. 16. 16. 14.  0.  0.  0.  0.\n",
      " 13. 16. 15. 10.  1.  0.  0.  0. 11. 16. 16.  7.  0.  0.  0.  0.  0.  4.\n",
      "  7. 16.  7.  0.  0.  0.  0.  0.  4. 16.  9.  0.  0.  0.  5.  4. 12. 16.\n",
      "  4.  0.  0.  0.  9. 16. 16. 10.  0.  0.]\n",
      "5\n",
      "[[ 0.  0. 12. 10.  0.  0.  0.  0.]\n",
      " [ 0.  0. 14. 16. 16. 14.  0.  0.]\n",
      " [ 0.  0. 13. 16. 15. 10.  1.  0.]\n",
      " [ 0.  0. 11. 16. 16.  7.  0.  0.]\n",
      " [ 0.  0.  0.  4.  7. 16.  7.  0.]\n",
      " [ 0.  0.  0.  0.  4. 16.  9.  0.]\n",
      " [ 0.  0.  5.  4. 12. 16.  4.  0.]\n",
      " [ 0.  0.  9. 16. 16. 10.  0.  0.]]\n",
      "the classes of the digits are: {0, 1, 2, 3, 4, 5, 6, 7, 8, 9}\n"
     ]
    },
    {
     "data": {
      "image/png": "[encoded data removed]",
      "text/plain": [
       "<matplotlib.figure.Figure at 0x11dbd3e10>"
      ]
     },
     "metadata": {},
     "output_type": "display_data"
    },
    {
     "data": {
      "image/png": "[encoded data removed]",
      "text/plain": [
       "<matplotlib.figure.Figure at 0x11b8b0a90>"
      ]
     },
     "metadata": {},
     "output_type": "display_data"
    }
   ],
   "source": [
    "# plot the data\n",
    "digits = load_digits()\n",
    "print(digits.keys())\n",
    "print(len(digits.data)) # the total number of digits\n",
    "print(len(digits.target))\n",
    "print(len(digits.images))\n",
    "print(digits.data[5])\n",
    "print(digits.target[5])\n",
    "print(digits.images[5])\n",
    "print('the classes of the digits are:', set(target))\n",
    "data = digits.data\n",
    "target = digits.target\n",
    "target_cla = set(target)\n",
    "image = digits.images\n",
    "\n",
    "plt.gray()\n",
    "plt.matshow(image[5])\n",
    "plt.show()"
   ]
  },
  {
   "cell_type": "code",
   "execution_count": 105,
   "metadata": {},
   "outputs": [
    {
     "data": {
      "image/png": "[encoded data removed]",
      "text/plain": [
       "<matplotlib.figure.Figure at 0x11ee330b8>"
      ]
     },
     "metadata": {},
     "output_type": "display_data"
    }
   ],
   "source": [
    "# plot a sample from each class to see what the data looks like\n",
    "classes = range(10)   # classes: int number [0,1,2,3,4,5,6,7,8,9]\n",
    "num_classes = len(classes)\n",
    "samples_per_class = 1\n",
    "for cla in classes:\n",
    "    # pick the index of the digits whose target equals to the class\n",
    "    digits_cla = np.flatnonzero(target == cla)\n",
    "    # random pick one image\n",
    "    digits_cla = np.random.choice(digits_cla, samples_per_class, replace = False)\n",
    "    for pos, val in enumerate(digits_cla):\n",
    "        plt_index = pos * num_classes + cla + 1\n",
    "        plt.subplot(samples_per_class, num_classes, plt_index)    # plt.subplot(nrows, ncols, index)\n",
    "        plt.imshow(image[val].astype('uint8'))\n",
    "        plt.axis('off')\n",
    "        if pos == 0:\n",
    "            plt.title(cla)\n",
    "plt.show()"
   ]
  },
  {
   "cell_type": "code",
   "execution_count": null,
   "metadata": {
    "collapsed": true
   },
   "outputs": [],
   "source": [
    "# implement the neural network\n",
    "# learn how to write the function in the CLASS\n",
    "def sigmoid(x):\n",
    "    return 1 / (1 + np.exp(-x))\n",
    "# sigmoid derivation\n",
    "def dsigmoid(x):\n",
    "    s = sigmoid(x)\n",
    "    ds = s*(1-s)\n",
    "    return ds\n",
    "class neural_network:\n",
    "    def __init__(self, input_size, hidden_size, num_class):\n",
    "        self.weight_1 = np.random.randn(hidden_size, input_size+1)\n",
    "        self.weight_2 = np.random.randn(num_class, hidden_size+1)\n",
    "        self.bias_1 = np.ones()\n",
    "        self.biad_2 = np.ones()\n",
    "    def cost_Fun(X,):                         # X.shape(num_feature, num_train)\n",
    "        num_feature, num_train = X.shape\n",
    "        # forward propagration, FP\n",
    "        a_1 = X   # input layer\n",
    "        a_2 = sigmoid(np.dot(weight_1,a_1))   # weight_1.shape(hidden_size, input_size+1)\n",
    "        a_3 = sigmoid(np.dot(weight_2,a_2))   # weight_2.shape(num_class, hidden_size+1)\n",
    "        \n",
    "        # backward propagration, BP"
   ]
  },
  {
   "cell_type": "code",
   "execution_count": 112,
   "metadata": {},
   "outputs": [
    {
     "data": {
      "text/plain": [
       "array([[-0.34699348,  0.53783092],\n",
       "       [ 0.97103495, -0.0926668 ]])"
      ]
     },
     "execution_count": 112,
     "metadata": {},
     "output_type": "execute_result"
    }
   ],
   "source": [
    "np.random.randn(2,2)"
   ]
  },
  {
   "cell_type": "code",
   "execution_count": 116,
   "metadata": {},
   "outputs": [
    {
     "data": {
      "text/plain": [
       "1"
      ]
     },
     "execution_count": 116,
     "metadata": {},
     "output_type": "execute_result"
    }
   ],
   "source": [
    "np.ones(1).size"
   ]
  },
  {
   "cell_type": "code",
   "execution_count": 118,
   "metadata": {
    "collapsed": true
   },
   "outputs": [],
   "source": [
    "a = np.array([[1,1],[1,1]])\n",
    "m,n = a.shape"
   ]
  },
  {
   "cell_type": "code",
   "execution_count": 119,
   "metadata": {},
   "outputs": [
    {
     "data": {
      "text/plain": [
       "2"
      ]
     },
     "execution_count": 119,
     "metadata": {},
     "output_type": "execute_result"
    }
   ],
   "source": [
    "m"
   ]
  },
  {
   "cell_type": "code",
   "execution_count": 120,
   "metadata": {
    "collapsed": true
   },
   "outputs": [],
   "source": [
    "a.shape = m, n"
   ]
  },
  {
   "cell_type": "code",
   "execution_count": null,
   "metadata": {
    "collapsed": true
   },
   "outputs": [],
   "source": []
  }
 ],
 "metadata": {
  "kernelspec": {
   "display_name": "Python 3",
   "language": "python",
   "name": "python3"
  },
  "language_info": {
   "codemirror_mode": {
    "name": "ipython",
    "version": 3
   },
   "file_extension": ".py",
   "mimetype": "text/x-python",
   "name": "python",
   "nbconvert_exporter": "python",
   "pygments_lexer": "ipython3",
   "version": "3.6.1"
  }
 },
 "nbformat": 4,
 "nbformat_minor": 2
}
